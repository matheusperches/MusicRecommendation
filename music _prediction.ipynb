{
 "cells": [
  {
   "cell_type": "code",
   "execution_count": 40,
   "id": "e701a479",
   "metadata": {},
   "outputs": [
    {
     "data": {
      "text/plain": [
       "1.0"
      ]
     },
     "execution_count": 40,
     "metadata": {},
     "output_type": "execute_result"
    }
   ],
   "source": [
    "# Importing the Pandas and SKLearn libraries.\n",
    "import pandas as pd \n",
    "from sklearn.tree import DecisionTreeClassifier\n",
    "from sklearn.model_selection import train_test_split\n",
    "from sklearn.metrics import accuracy_score\n",
    "\n",
    "# Reading the data from a CSV file.\n",
    "music_data = pd.read_csv('music.csv')\n",
    "# This is the input data \n",
    "X = music_data.drop(columns=['genre'])\n",
    "# This is the output data \n",
    "y = music_data['genre']\n",
    "# Defining a percentage of the data for testing the accuracy of the model\n",
    "# first two input sets and last two are output sets\n",
    "X_train, X_test, y_train, y_test = train_test_split(X, y, test_size = 0.2)\n",
    "\n",
    "# Selecting the ML model from SKLearn\n",
    "model = DecisionTreeClassifier()\n",
    "# Importing the input and the output data into the model using fit()\n",
    "model.fit(X_train.values, y_train)\n",
    "# Making a prediction of the music preferences\n",
    "predictions = model.predict(X_test.values)\n",
    "# Calculating the accuracy of the model with the test data output and the predictions made with the X test input data.\n",
    "score = accuracy_score(y_test, predictions)\n",
    "score"
   ]
  }
 ],
 "metadata": {
  "kernelspec": {
   "display_name": "Python 3 (ipykernel)",
   "language": "python",
   "name": "python3"
  },
  "language_info": {
   "codemirror_mode": {
    "name": "ipython",
    "version": 3
   },
   "file_extension": ".py",
   "mimetype": "text/x-python",
   "name": "python",
   "nbconvert_exporter": "python",
   "pygments_lexer": "ipython3",
   "version": "3.11.5"
  }
 },
 "nbformat": 4,
 "nbformat_minor": 5
}
