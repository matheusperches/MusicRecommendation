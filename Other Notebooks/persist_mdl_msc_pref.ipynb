{
 "cells": [
  {
   "cell_type": "code",
   "execution_count": 1,
   "id": "e701a479",
   "metadata": {},
   "outputs": [
    {
     "data": {
      "text/plain": [
       "['music-recommender.joblib']"
      ]
     },
     "execution_count": 1,
     "metadata": {},
     "output_type": "execute_result"
    }
   ],
   "source": [
    "# Importing the Pandas and SKLearn libraries.\n",
    "import pandas as pd \n",
    "from sklearn.tree import DecisionTreeClassifier\n",
    "import joblib\n",
    "\n",
    "# Reading the data from a CSV file.\n",
    "music_data = pd.read_csv('music.csv')\n",
    "\n",
    "# This is the input data \n",
    "X = music_data.drop(columns=['genre'])\n",
    "\n",
    "# This is the output data \n",
    "y = music_data['genre']\n",
    "\n",
    "# Selecting the ML model from SKLearn\n",
    "model = DecisionTreeClassifier()\n",
    "\n",
    "# Importing the input and the output data into the model using fit()\n",
    "model.fit(X.values, y)\n",
    "\n",
    "joblib.dump(model, 'music-recommender.joblib')"
   ]
  }
 ],
 "metadata": {
  "kernelspec": {
   "display_name": "Python 3 (ipykernel)",
   "language": "python",
   "name": "python3"
  },
  "language_info": {
   "codemirror_mode": {
    "name": "ipython",
    "version": 3
   },
   "file_extension": ".py",
   "mimetype": "text/x-python",
   "name": "python",
   "nbconvert_exporter": "python",
   "pygments_lexer": "ipython3",
   "version": "3.11.5"
  }
 },
 "nbformat": 4,
 "nbformat_minor": 5
}
